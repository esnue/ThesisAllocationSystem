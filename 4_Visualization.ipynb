{
  "nbformat": 4,
  "nbformat_minor": 0,
  "metadata": {
    "colab": {
      "name": "Visualization.ipynb",
      "provenance": [],
      "include_colab_link": true
    },
    "kernelspec": {
      "name": "python3",
      "display_name": "Python 3"
    },
    "language_info": {
      "name": "python"
    }
  },
  "cells": [
    {
      "cell_type": "markdown",
      "metadata": {
        "id": "view-in-github",
        "colab_type": "text"
      },
      "source": [
        "<a href=\"https://colab.research.google.com/github/esnue/ThesisAllocationSystem/blob/main/4_Visualization.ipynb\" target=\"_parent\"><img src=\"https://colab.research.google.com/assets/colab-badge.svg\" alt=\"Open In Colab\"/></a>"
      ]
    },
    {
      "cell_type": "markdown",
      "metadata": {
        "id": "VWjDwnqJdYht"
      },
      "source": [
        "# Visualization of CTM output results\n",
        "In this notebook, we will visualize our CTM output. "
      ]
    },
    {
      "cell_type": "markdown",
      "metadata": {
        "id": "JTudzMQqeCZV"
      },
      "source": [
        "## Import what we need"
      ]
    },
    {
      "cell_type": "code",
      "metadata": {
        "id": "66vi-i35dhGD"
      },
      "source": [
        "import pandas as pd\n",
        "import numpy as np\n",
        "import matplotlib.pyplot as plt\n",
        "from collections import Counter\n",
        "import matplotlib.colors as mcolors"
      ],
      "execution_count": 1,
      "outputs": []
    },
    {
      "cell_type": "markdown",
      "metadata": {
        "id": "PF42c6exdo5N"
      },
      "source": [
        "## Data\n",
        "Let's import the dataframe that holds all of the relevant CTM outputs for our corpus of academic papers. "
      ]
    },
    {
      "cell_type": "code",
      "metadata": {
        "colab": {
          "base_uri": "https://localhost:8080/"
        },
        "id": "eO_o0RrsdmD7",
        "outputId": "23a5c029-55b7-444f-b688-99974eefc4ad"
      },
      "source": [
        "from google.colab import drive\n",
        "drive.mount('/content/drive')"
      ],
      "execution_count": 2,
      "outputs": [
        {
          "output_type": "stream",
          "text": [
            "Mounted at /content/drive\n"
          ],
          "name": "stdout"
        }
      ]
    },
    {
      "cell_type": "code",
      "metadata": {
        "colab": {
          "base_uri": "https://localhost:8080/"
        },
        "id": "M7CttUE0d5-T",
        "outputId": "691aa9ed-8b98-4e53-fd19-391a0bac49aa"
      },
      "source": [
        "topics_df = pd.read_csv('/content/drive/MyDrive/ThesisAllocationSystem/data_final/ctm_label/train-label.csv')\n",
        "\n",
        "print(topics_df.sample(5))\n",
        "print(\"There are \", len(topics_df.topic_id.unique()), \"topics in total.\")"
      ],
      "execution_count": 3,
      "outputs": [
        {
          "output_type": "stream",
          "text": [
            "                prof  ...                                       distribution\n",
            "163   Costello15.txt  ...  [0.011759927216917276, 0.007264112963457592, 0...\n",
            "30    Roemmele12.txt  ...  [0.015685715107247235, 0.16113232597708702, 0....\n",
            "76      Jankin38.txt  ...  [0.1299343321006745, 0.027759842411614954, 0.0...\n",
            "440         cis7.txt  ...  [0.025173379393527283, 0.06033282923744991, 0....\n",
            "761  stockmann18.txt  ...  [0.037176481122151016, 0.13980714147910475, 0....\n",
            "\n",
            "[5 rows x 4 columns]\n",
            "There are  14 topics in total.\n"
          ],
          "name": "stdout"
        }
      ]
    },
    {
      "cell_type": "markdown",
      "metadata": {
        "id": "oNa1mn2CRz1i"
      },
      "source": [
        "## Create wide & long format"
      ]
    },
    {
      "cell_type": "code",
      "metadata": {
        "colab": {
          "base_uri": "https://localhost:8080/",
          "height": 203
        },
        "id": "huhss1ZzOAol",
        "outputId": "cf9fb505-1877-483a-8127-910b14867816"
      },
      "source": [
        "# Extract list of topic proportions \n",
        "list_prop = topics_df.iloc[:,3]\n",
        "\n",
        "# Convert to float array\n",
        "ar_float = np.array([[float(i) for i in j[1:-1].split(', ')] for j in list_prop])\n",
        "\n",
        "# Create col labels \n",
        "topics = []\n",
        "for i in list(range(0, 14)):\n",
        "     topics.append('Topic' + str(i))\n",
        "\n",
        "# Add col labels to float array\n",
        "topiclab_df = pd.DataFrame(data = ar_float, columns=topics)\n",
        "topiclab_df.head()"
      ],
      "execution_count": 4,
      "outputs": [
        {
          "output_type": "execute_result",
          "data": {
            "text/html": [
              "<div>\n",
              "<style scoped>\n",
              "    .dataframe tbody tr th:only-of-type {\n",
              "        vertical-align: middle;\n",
              "    }\n",
              "\n",
              "    .dataframe tbody tr th {\n",
              "        vertical-align: top;\n",
              "    }\n",
              "\n",
              "    .dataframe thead th {\n",
              "        text-align: right;\n",
              "    }\n",
              "</style>\n",
              "<table border=\"1\" class=\"dataframe\">\n",
              "  <thead>\n",
              "    <tr style=\"text-align: right;\">\n",
              "      <th></th>\n",
              "      <th>Topic0</th>\n",
              "      <th>Topic1</th>\n",
              "      <th>Topic2</th>\n",
              "      <th>Topic3</th>\n",
              "      <th>Topic4</th>\n",
              "      <th>Topic5</th>\n",
              "      <th>Topic6</th>\n",
              "      <th>Topic7</th>\n",
              "      <th>Topic8</th>\n",
              "      <th>Topic9</th>\n",
              "      <th>Topic10</th>\n",
              "      <th>Topic11</th>\n",
              "      <th>Topic12</th>\n",
              "      <th>Topic13</th>\n",
              "    </tr>\n",
              "  </thead>\n",
              "  <tbody>\n",
              "    <tr>\n",
              "      <th>0</th>\n",
              "      <td>0.009234</td>\n",
              "      <td>0.013933</td>\n",
              "      <td>0.027286</td>\n",
              "      <td>0.019762</td>\n",
              "      <td>0.014530</td>\n",
              "      <td>0.023150</td>\n",
              "      <td>0.045658</td>\n",
              "      <td>0.041960</td>\n",
              "      <td>0.089979</td>\n",
              "      <td>0.014097</td>\n",
              "      <td>0.020300</td>\n",
              "      <td>0.638849</td>\n",
              "      <td>0.028969</td>\n",
              "      <td>0.012292</td>\n",
              "    </tr>\n",
              "    <tr>\n",
              "      <th>1</th>\n",
              "      <td>0.102841</td>\n",
              "      <td>0.021754</td>\n",
              "      <td>0.066687</td>\n",
              "      <td>0.027214</td>\n",
              "      <td>0.022265</td>\n",
              "      <td>0.042572</td>\n",
              "      <td>0.027066</td>\n",
              "      <td>0.235141</td>\n",
              "      <td>0.099709</td>\n",
              "      <td>0.057614</td>\n",
              "      <td>0.024836</td>\n",
              "      <td>0.199737</td>\n",
              "      <td>0.031868</td>\n",
              "      <td>0.040697</td>\n",
              "    </tr>\n",
              "    <tr>\n",
              "      <th>2</th>\n",
              "      <td>0.009742</td>\n",
              "      <td>0.015430</td>\n",
              "      <td>0.034784</td>\n",
              "      <td>0.140046</td>\n",
              "      <td>0.010870</td>\n",
              "      <td>0.057932</td>\n",
              "      <td>0.021482</td>\n",
              "      <td>0.099077</td>\n",
              "      <td>0.014048</td>\n",
              "      <td>0.069009</td>\n",
              "      <td>0.027499</td>\n",
              "      <td>0.009451</td>\n",
              "      <td>0.302332</td>\n",
              "      <td>0.188296</td>\n",
              "    </tr>\n",
              "    <tr>\n",
              "      <th>3</th>\n",
              "      <td>0.025711</td>\n",
              "      <td>0.015608</td>\n",
              "      <td>0.040852</td>\n",
              "      <td>0.023090</td>\n",
              "      <td>0.012962</td>\n",
              "      <td>0.031231</td>\n",
              "      <td>0.034215</td>\n",
              "      <td>0.095307</td>\n",
              "      <td>0.070767</td>\n",
              "      <td>0.027278</td>\n",
              "      <td>0.033543</td>\n",
              "      <td>0.532386</td>\n",
              "      <td>0.031209</td>\n",
              "      <td>0.025839</td>\n",
              "    </tr>\n",
              "    <tr>\n",
              "      <th>4</th>\n",
              "      <td>0.039954</td>\n",
              "      <td>0.020790</td>\n",
              "      <td>0.046773</td>\n",
              "      <td>0.044506</td>\n",
              "      <td>0.031542</td>\n",
              "      <td>0.049812</td>\n",
              "      <td>0.046903</td>\n",
              "      <td>0.122773</td>\n",
              "      <td>0.123714</td>\n",
              "      <td>0.034530</td>\n",
              "      <td>0.057081</td>\n",
              "      <td>0.322406</td>\n",
              "      <td>0.033792</td>\n",
              "      <td>0.025425</td>\n",
              "    </tr>\n",
              "  </tbody>\n",
              "</table>\n",
              "</div>"
            ],
            "text/plain": [
              "     Topic0    Topic1    Topic2  ...   Topic11   Topic12   Topic13\n",
              "0  0.009234  0.013933  0.027286  ...  0.638849  0.028969  0.012292\n",
              "1  0.102841  0.021754  0.066687  ...  0.199737  0.031868  0.040697\n",
              "2  0.009742  0.015430  0.034784  ...  0.009451  0.302332  0.188296\n",
              "3  0.025711  0.015608  0.040852  ...  0.532386  0.031209  0.025839\n",
              "4  0.039954  0.020790  0.046773  ...  0.322406  0.033792  0.025425\n",
              "\n",
              "[5 rows x 14 columns]"
            ]
          },
          "metadata": {
            "tags": []
          },
          "execution_count": 4
        }
      ]
    },
    {
      "cell_type": "code",
      "metadata": {
        "id": "uWmXGGEzFXpZ"
      },
      "source": [
        "# Change col name \n",
        "topics_df.rename(columns={\"topic\": \"topic_words\"}, inplace = True)\n",
        "\n",
        "# Append wide format to topics_df\n",
        "topics_df_wide = pd.concat([topics_df.iloc[:, 0:3], topiclab_df], axis = 1)\n",
        "\n",
        "# Reshape to long format\n",
        "topics_df_long = topics_df_wide.melt(id_vars = ['prof', 'topic_id', 'topic_words'],\n",
        "                                     var_name = 'topic',\n",
        "                                     value_name = 'topic_prop')"
      ],
      "execution_count": 5,
      "outputs": []
    },
    {
      "cell_type": "code",
      "metadata": {
        "id": "2BtfScfcWvp8",
        "colab": {
          "base_uri": "https://localhost:8080/"
        },
        "outputId": "192aecb7-34b2-4090-bc75-a84ef66c70b1"
      },
      "source": [
        "print(\"This is the wide format.\\n\", topics_df_wide.head(5))\n",
        "print(\"This is the long format.\\n\", topics_df_long.head(5))"
      ],
      "execution_count": null,
      "outputs": [
        {
          "output_type": "stream",
          "text": [
            "This is the wide format.\n",
            "                 prof  topic_id  ...   Topic12   Topic13\n",
            "0  Hammerschmid1.txt        11  ...  0.028969  0.012292\n",
            "1  Hammerschmid2.txt         7  ...  0.031868  0.040697\n",
            "2  Hammerschmid3.txt        12  ...  0.302332  0.188296\n",
            "3  Hammerschmid4.txt        11  ...  0.031209  0.025839\n",
            "4  Hammerschmid5.txt        11  ...  0.033792  0.025425\n",
            "\n",
            "[5 rows x 17 columns]\n",
            "This is the long format.\n",
            "                 prof  topic_id  ...   topic topic_prop\n",
            "0  Hammerschmid1.txt        11  ...  Topic0   0.009234\n",
            "1  Hammerschmid2.txt         7  ...  Topic0   0.102841\n",
            "2  Hammerschmid3.txt        12  ...  Topic0   0.009742\n",
            "3  Hammerschmid4.txt        11  ...  Topic0   0.025711\n",
            "4  Hammerschmid5.txt        11  ...  Topic0   0.039954\n",
            "\n",
            "[5 rows x 5 columns]\n"
          ],
          "name": "stdout"
        }
      ]
    },
    {
      "cell_type": "code",
      "metadata": {
        "id": "6I98ELh5BOxz"
      },
      "source": [
        "# Save wide and long formats \n",
        "#topics_df_wide.to_csv('/content/drive/MyDrive/ThesisAllocationSystem/data_final/ctm_label/train-label_wide.csv', index = False)\n",
        "#topics_df_wide.to_csv('/content/drive/MyDrive/ThesisAllocationSystem/data_final/ctm_label/train-label_long.csv', index = False)"
      ],
      "execution_count": null,
      "outputs": []
    },
    {
      "cell_type": "markdown",
      "metadata": {
        "id": "DJROyYUCo8Eq"
      },
      "source": [
        "## Stacked Bar Chart"
      ]
    },
    {
      "cell_type": "code",
      "metadata": {
        "id": "Va_nHYb8kSIc"
      },
      "source": [
        "def prep_table(data): \n",
        "  # Remove number and .txt from prof\n",
        "  data['prof'] = data['prof'].str.replace('[0-9]', '').str.replace('\\.txt', '').str.upper()\n",
        "\n",
        "  # Isolate prof name + topic values\n",
        "  data1 = pd.concat([data['prof'], data.iloc[:, 3:31]], axis = 1)\n",
        "\n",
        "  # Average topic proportions per professor \n",
        "  data2 = data1.groupby('prof').mean().reset_index()\n",
        "  return(data2)\n"
      ],
      "execution_count": 142,
      "outputs": []
    },
    {
      "cell_type": "code",
      "metadata": {
        "id": "Qey6eegGlBam"
      },
      "source": [
        "bardat = prep_table(topics_df_wide)"
      ],
      "execution_count": 146,
      "outputs": []
    },
    {
      "cell_type": "code",
      "metadata": {
        "id": "r2hSKMdLjdJ8"
      },
      "source": [
        "def plot_topic(topicname, data): \n",
        "  data1 = data.sort_values(topicname)\n",
        "  plt.rcParams[\"figure.figsize\"] = [10,6]\n",
        "  data1.plot(\n",
        "    x = 'prof',\n",
        "    kind = 'barh',\n",
        "    stacked = True,\n",
        "    title = 'Distribution of Professors in Topics',\n",
        "    mark_right = True,\n",
        "    cmap=\"tab20c\")"
      ],
      "execution_count": 129,
      "outputs": []
    },
    {
      "cell_type": "code",
      "metadata": {
        "colab": {
          "base_uri": "https://localhost:8080/",
          "height": 390
        },
        "id": "yURrl4dwjzDS",
        "outputId": "a6955cd5-1b4d-4d6e-c552-6482679383a0"
      },
      "source": [
        "plot_topic('Topic0', bardat)"
      ],
      "execution_count": 147,
      "outputs": [
        {
          "output_type": "display_data",
          "data": {
            "image/png": "[encoded data removed]",
            "text/plain": [
              "<Figure size 720x432 with 1 Axes>"
            ]
          },
          "metadata": {
            "tags": [],
            "needs_background": "light"
          }
        }
      ]
    },
    {
      "cell_type": "code",
      "metadata": {
        "id": "c9z7d6JYixEi"
      },
      "source": [
        "def plot_prof(profname, data):\n",
        "  data1 = data[(data.prof == profname)]\n",
        "  data2 = data1.transpose().iloc[1:].reset_index()\n",
        "  data2.columns = ['topics', 'values']\n",
        "  data2 = data2.sort_values(by = ['values'], ascending = False)\n",
        "\n",
        "  topics = list(data2.iloc[:,0])\n",
        "  values = list(data2.iloc[:,1])\n",
        "\n",
        "  y_pos = list(reversed(np.arange(len(topics))))\n",
        "  plt.rcParams[\"figure.figsize\"] = [10,6]\n",
        " \n",
        "  # Create horizontal bars\n",
        "  plt.barh(y_pos, values)\n",
        " \n",
        "  # Create names on the x-axis\n",
        "  plt.yticks(y_pos, topics)\n",
        " \n",
        "  # Show graphic\n",
        "  plt.show()\n"
      ],
      "execution_count": 131,
      "outputs": []
    },
    {
      "cell_type": "code",
      "metadata": {
        "colab": {
          "base_uri": "https://localhost:8080/",
          "height": 374
        },
        "id": "ZHKlrWoljNrm",
        "outputId": "64f41d93-8d31-490f-cfc5-84a3cc50964b"
      },
      "source": [
        "plot_prof(\"ANHEIER\", bardat)"
      ],
      "execution_count": 148,
      "outputs": [
        {
          "output_type": "display_data",
          "data": {
            "image/png": "[encoded data removed]",
            "text/plain": [
              "<Figure size 720x432 with 1 Axes>"
            ]
          },
          "metadata": {
            "tags": [],
            "needs_background": "light"
          }
        }
      ]
    },
    {
      "cell_type": "code",
      "metadata": {
        "id": "XgEsNjzDv80g"
      },
      "source": [
        "# Next steps: assign labels to each topic \n",
        "# Create field where you can click on each topic and see bar chart above sorted by label of interest \n",
        "# Integrate supervision plans "
      ],
      "execution_count": null,
      "outputs": []
    },
    {
      "cell_type": "markdown",
      "metadata": {
        "id": "dO-lg7xdomOl"
      },
      "source": [
        "## Bar Chart: Word Counts of Topic Keywords"
      ]
    },
    {
      "cell_type": "code",
      "metadata": {
        "id": "iVzvhCgKuPTm",
        "colab": {
          "base_uri": "https://localhost:8080/",
          "height": 203
        },
        "outputId": "e7e50dd1-0737-4065-a7a4-c8b9e9d7cf0b"
      },
      "source": [
        "topics_df_long.head(5)"
      ],
      "execution_count": 12,
      "outputs": [
        {
          "output_type": "execute_result",
          "data": {
            "text/html": [
              "<div>\n",
              "<style scoped>\n",
              "    .dataframe tbody tr th:only-of-type {\n",
              "        vertical-align: middle;\n",
              "    }\n",
              "\n",
              "    .dataframe tbody tr th {\n",
              "        vertical-align: top;\n",
              "    }\n",
              "\n",
              "    .dataframe thead th {\n",
              "        text-align: right;\n",
              "    }\n",
              "</style>\n",
              "<table border=\"1\" class=\"dataframe\">\n",
              "  <thead>\n",
              "    <tr style=\"text-align: right;\">\n",
              "      <th></th>\n",
              "      <th>prof</th>\n",
              "      <th>topic_id</th>\n",
              "      <th>topic_words</th>\n",
              "      <th>topic</th>\n",
              "      <th>topic_prop</th>\n",
              "    </tr>\n",
              "  </thead>\n",
              "  <tbody>\n",
              "    <tr>\n",
              "      <th>0</th>\n",
              "      <td>Hammerschmid1.txt</td>\n",
              "      <td>11</td>\n",
              "      <td>['political', 'public', 'government', 'parties...</td>\n",
              "      <td>Topic0</td>\n",
              "      <td>0.009234</td>\n",
              "    </tr>\n",
              "    <tr>\n",
              "      <th>1</th>\n",
              "      <td>Hammerschmid2.txt</td>\n",
              "      <td>7</td>\n",
              "      <td>['organizations', 'business', 'social', 'entre...</td>\n",
              "      <td>Topic0</td>\n",
              "      <td>0.102841</td>\n",
              "    </tr>\n",
              "    <tr>\n",
              "      <th>2</th>\n",
              "      <td>Hammerschmid3.txt</td>\n",
              "      <td>12</td>\n",
              "      <td>['ngiven', 'always', 'extend', 'codes', 'const...</td>\n",
              "      <td>Topic0</td>\n",
              "      <td>0.009742</td>\n",
              "    </tr>\n",
              "    <tr>\n",
              "      <th>3</th>\n",
              "      <td>Hammerschmid4.txt</td>\n",
              "      <td>11</td>\n",
              "      <td>['political', 'public', 'government', 'parties...</td>\n",
              "      <td>Topic0</td>\n",
              "      <td>0.025711</td>\n",
              "    </tr>\n",
              "    <tr>\n",
              "      <th>4</th>\n",
              "      <td>Hammerschmid5.txt</td>\n",
              "      <td>11</td>\n",
              "      <td>['political', 'public', 'government', 'parties...</td>\n",
              "      <td>Topic0</td>\n",
              "      <td>0.039954</td>\n",
              "    </tr>\n",
              "  </tbody>\n",
              "</table>\n",
              "</div>"
            ],
            "text/plain": [
              "                prof  topic_id  ...   topic topic_prop\n",
              "0  Hammerschmid1.txt        11  ...  Topic0   0.009234\n",
              "1  Hammerschmid2.txt         7  ...  Topic0   0.102841\n",
              "2  Hammerschmid3.txt        12  ...  Topic0   0.009742\n",
              "3  Hammerschmid4.txt        11  ...  Topic0   0.025711\n",
              "4  Hammerschmid5.txt        11  ...  Topic0   0.039954\n",
              "\n",
              "[5 rows x 5 columns]"
            ]
          },
          "metadata": {
            "tags": []
          },
          "execution_count": 12
        }
      ]
    },
    {
      "cell_type": "code",
      "metadata": {
        "colab": {
          "base_uri": "https://localhost:8080/",
          "height": 203
        },
        "id": "ceDrg6dRpnjh",
        "outputId": "c8b419f6-2828-4539-cf6f-bd40aa759261"
      },
      "source": [
        "bardat = topics_df_long.iloc[:, 1:3]\n",
        "bardat.head(5)"
      ],
      "execution_count": 13,
      "outputs": [
        {
          "output_type": "execute_result",
          "data": {
            "text/html": [
              "<div>\n",
              "<style scoped>\n",
              "    .dataframe tbody tr th:only-of-type {\n",
              "        vertical-align: middle;\n",
              "    }\n",
              "\n",
              "    .dataframe tbody tr th {\n",
              "        vertical-align: top;\n",
              "    }\n",
              "\n",
              "    .dataframe thead th {\n",
              "        text-align: right;\n",
              "    }\n",
              "</style>\n",
              "<table border=\"1\" class=\"dataframe\">\n",
              "  <thead>\n",
              "    <tr style=\"text-align: right;\">\n",
              "      <th></th>\n",
              "      <th>topic_id</th>\n",
              "      <th>topic_words</th>\n",
              "    </tr>\n",
              "  </thead>\n",
              "  <tbody>\n",
              "    <tr>\n",
              "      <th>0</th>\n",
              "      <td>11</td>\n",
              "      <td>['political', 'public', 'government', 'parties...</td>\n",
              "    </tr>\n",
              "    <tr>\n",
              "      <th>1</th>\n",
              "      <td>7</td>\n",
              "      <td>['organizations', 'business', 'social', 'entre...</td>\n",
              "    </tr>\n",
              "    <tr>\n",
              "      <th>2</th>\n",
              "      <td>12</td>\n",
              "      <td>['ngiven', 'always', 'extend', 'codes', 'const...</td>\n",
              "    </tr>\n",
              "    <tr>\n",
              "      <th>3</th>\n",
              "      <td>11</td>\n",
              "      <td>['political', 'public', 'government', 'parties...</td>\n",
              "    </tr>\n",
              "    <tr>\n",
              "      <th>4</th>\n",
              "      <td>11</td>\n",
              "      <td>['political', 'public', 'government', 'parties...</td>\n",
              "    </tr>\n",
              "  </tbody>\n",
              "</table>\n",
              "</div>"
            ],
            "text/plain": [
              "   topic_id                                        topic_words\n",
              "0        11  ['political', 'public', 'government', 'parties...\n",
              "1         7  ['organizations', 'business', 'social', 'entre...\n",
              "2        12  ['ngiven', 'always', 'extend', 'codes', 'const...\n",
              "3        11  ['political', 'public', 'government', 'parties...\n",
              "4        11  ['political', 'public', 'government', 'parties..."
            ]
          },
          "metadata": {
            "tags": []
          },
          "execution_count": 13
        }
      ]
    },
    {
      "cell_type": "code",
      "metadata": {
        "id": "a459g4SB3o-O"
      },
      "source": [
        "# remove leading white space's & split by delimiter\n",
        "bardat['topic_words'] = bardat['topic_words'].str.strip()\\\n",
        "    .str.replace(\",\\s+\", \",\")\\\n",
        "    .str.split(',')\n",
        "\n",
        "# apply group by to get count of each word.\n",
        "bardat2  = bardat.explode(column='topic_words').groupby([\"topic_id\",\"topic_words\"]).size().reset_index(name='count')"
      ],
      "execution_count": 14,
      "outputs": []
    },
    {
      "cell_type": "code",
      "metadata": {
        "id": "V7CWBGS74C4J",
        "colab": {
          "base_uri": "https://localhost:8080/",
          "height": 203
        },
        "outputId": "3061423f-b2c1-4513-9453-0e010b5b9efc"
      },
      "source": [
        "bardat3 = bardat.groupby(['topic_id']).count().reset_index().rename(columns={\"topic_words\": \"count\"})\n",
        "bardat3.head(5)"
      ],
      "execution_count": 15,
      "outputs": [
        {
          "output_type": "execute_result",
          "data": {
            "text/html": [
              "<div>\n",
              "<style scoped>\n",
              "    .dataframe tbody tr th:only-of-type {\n",
              "        vertical-align: middle;\n",
              "    }\n",
              "\n",
              "    .dataframe tbody tr th {\n",
              "        vertical-align: top;\n",
              "    }\n",
              "\n",
              "    .dataframe thead th {\n",
              "        text-align: right;\n",
              "    }\n",
              "</style>\n",
              "<table border=\"1\" class=\"dataframe\">\n",
              "  <thead>\n",
              "    <tr style=\"text-align: right;\">\n",
              "      <th></th>\n",
              "      <th>topic_id</th>\n",
              "      <th>count</th>\n",
              "    </tr>\n",
              "  </thead>\n",
              "  <tbody>\n",
              "    <tr>\n",
              "      <th>0</th>\n",
              "      <td>0</td>\n",
              "      <td>616</td>\n",
              "    </tr>\n",
              "    <tr>\n",
              "      <th>1</th>\n",
              "      <td>1</td>\n",
              "      <td>588</td>\n",
              "    </tr>\n",
              "    <tr>\n",
              "      <th>2</th>\n",
              "      <td>2</td>\n",
              "      <td>714</td>\n",
              "    </tr>\n",
              "    <tr>\n",
              "      <th>3</th>\n",
              "      <td>3</td>\n",
              "      <td>756</td>\n",
              "    </tr>\n",
              "    <tr>\n",
              "      <th>4</th>\n",
              "      <td>4</td>\n",
              "      <td>1134</td>\n",
              "    </tr>\n",
              "  </tbody>\n",
              "</table>\n",
              "</div>"
            ],
            "text/plain": [
              "   topic_id  count\n",
              "0         0    616\n",
              "1         1    588\n",
              "2         2    714\n",
              "3         3    756\n",
              "4         4   1134"
            ]
          },
          "metadata": {
            "tags": []
          },
          "execution_count": 15
        }
      ]
    },
    {
      "cell_type": "code",
      "metadata": {
        "id": "n3PZWzjk9vI_",
        "colab": {
          "base_uri": "https://localhost:8080/",
          "height": 480
        },
        "outputId": "c609fffc-35ee-4d31-e1e4-660ebcf07bf9"
      },
      "source": [
        "bardat3"
      ],
      "execution_count": 16,
      "outputs": [
        {
          "output_type": "execute_result",
          "data": {
            "text/html": [
              "<div>\n",
              "<style scoped>\n",
              "    .dataframe tbody tr th:only-of-type {\n",
              "        vertical-align: middle;\n",
              "    }\n",
              "\n",
              "    .dataframe tbody tr th {\n",
              "        vertical-align: top;\n",
              "    }\n",
              "\n",
              "    .dataframe thead th {\n",
              "        text-align: right;\n",
              "    }\n",
              "</style>\n",
              "<table border=\"1\" class=\"dataframe\">\n",
              "  <thead>\n",
              "    <tr style=\"text-align: right;\">\n",
              "      <th></th>\n",
              "      <th>topic_id</th>\n",
              "      <th>count</th>\n",
              "    </tr>\n",
              "  </thead>\n",
              "  <tbody>\n",
              "    <tr>\n",
              "      <th>0</th>\n",
              "      <td>0</td>\n",
              "      <td>616</td>\n",
              "    </tr>\n",
              "    <tr>\n",
              "      <th>1</th>\n",
              "      <td>1</td>\n",
              "      <td>588</td>\n",
              "    </tr>\n",
              "    <tr>\n",
              "      <th>2</th>\n",
              "      <td>2</td>\n",
              "      <td>714</td>\n",
              "    </tr>\n",
              "    <tr>\n",
              "      <th>3</th>\n",
              "      <td>3</td>\n",
              "      <td>756</td>\n",
              "    </tr>\n",
              "    <tr>\n",
              "      <th>4</th>\n",
              "      <td>4</td>\n",
              "      <td>1134</td>\n",
              "    </tr>\n",
              "    <tr>\n",
              "      <th>5</th>\n",
              "      <td>5</td>\n",
              "      <td>826</td>\n",
              "    </tr>\n",
              "    <tr>\n",
              "      <th>6</th>\n",
              "      <td>6</td>\n",
              "      <td>784</td>\n",
              "    </tr>\n",
              "    <tr>\n",
              "      <th>7</th>\n",
              "      <td>7</td>\n",
              "      <td>1078</td>\n",
              "    </tr>\n",
              "    <tr>\n",
              "      <th>8</th>\n",
              "      <td>8</td>\n",
              "      <td>1134</td>\n",
              "    </tr>\n",
              "    <tr>\n",
              "      <th>9</th>\n",
              "      <td>9</td>\n",
              "      <td>630</td>\n",
              "    </tr>\n",
              "    <tr>\n",
              "      <th>10</th>\n",
              "      <td>10</td>\n",
              "      <td>924</td>\n",
              "    </tr>\n",
              "    <tr>\n",
              "      <th>11</th>\n",
              "      <td>11</td>\n",
              "      <td>1260</td>\n",
              "    </tr>\n",
              "    <tr>\n",
              "      <th>12</th>\n",
              "      <td>12</td>\n",
              "      <td>504</td>\n",
              "    </tr>\n",
              "    <tr>\n",
              "      <th>13</th>\n",
              "      <td>13</td>\n",
              "      <td>378</td>\n",
              "    </tr>\n",
              "  </tbody>\n",
              "</table>\n",
              "</div>"
            ],
            "text/plain": [
              "    topic_id  count\n",
              "0          0    616\n",
              "1          1    588\n",
              "2          2    714\n",
              "3          3    756\n",
              "4          4   1134\n",
              "5          5    826\n",
              "6          6    784\n",
              "7          7   1078\n",
              "8          8   1134\n",
              "9          9    630\n",
              "10        10    924\n",
              "11        11   1260\n",
              "12        12    504\n",
              "13        13    378"
            ]
          },
          "metadata": {
            "tags": []
          },
          "execution_count": 16
        }
      ]
    },
    {
      "cell_type": "code",
      "metadata": {
        "id": "nWenoSXq49Vl",
        "colab": {
          "base_uri": "https://localhost:8080/",
          "height": 656
        },
        "outputId": "9cc62354-f825-48ce-fe9d-e539ab943caf"
      },
      "source": [
        "# Plot\n",
        "plt.rcParams[\"figure.figsize\"] = [16,10]\n",
        "bardat3.plot(\n",
        "    x = 'topic_id',\n",
        "    kind = \"bar\",\n",
        "    stacked = False,\n",
        "    title = 'Distribution of Topics',\n",
        "    mark_right = True,\n",
        "    cmap = \"tab20c\")\n",
        "plt.xticks(rotation=0)"
      ],
      "execution_count": 17,
      "outputs": [
        {
          "output_type": "execute_result",
          "data": {
            "text/plain": [
              "(array([ 0,  1,  2,  3,  4,  5,  6,  7,  8,  9, 10, 11, 12, 13]),\n",
              " <a list of 14 Text major ticklabel objects>)"
            ]
          },
          "metadata": {
            "tags": []
          },
          "execution_count": 17
        },
        {
          "output_type": "display_data",
          "data": {
            "image/png": "[encoded data removed]",
            "text/plain": [
              "<Figure size 1152x720 with 1 Axes>"
            ]
          },
          "metadata": {
            "tags": [],
            "needs_background": "light"
          }
        }
      ]
    },
    {
      "cell_type": "markdown",
      "metadata": {
        "id": "p1Ts9GmWDQmR"
      },
      "source": [
        "# Visualize Loss"
      ]
    },
    {
      "cell_type": "code",
      "metadata": {
        "colab": {
          "base_uri": "https://localhost:8080/",
          "height": 632
        },
        "id": "xwGmkETQDPyC",
        "outputId": "a3e5e87d-a65e-425b-d597-65b59c22d226"
      },
      "source": [
        "epochs = [5, 15, 25, 30, 45]\n",
        "\n",
        "loss = [12288.245, 11944.792, 11850.689, 11827.34, 11703.930]\n",
        "\n",
        "x_unit_length = 5\n",
        "y_unit_length = 5000\n",
        "\n",
        "plt.rcParams[\"figure.figsize\"] = [15, 10]\n",
        "plt.title(\"Train Loss across Epochs\", fontsize=20)\n",
        "plt.xlabel(\"Epochs\", fontsize=15)\n",
        "plt.ylabel(\"Train Loss\", fontsize=15)\n",
        "plt.plot(epochs, loss)\n",
        "plt.show()\n"
      ],
      "execution_count": 18,
      "outputs": [
        {
          "output_type": "display_data",
          "data": {
            "image/png": "[encoded data removed]",
            "text/plain": [
              "<Figure size 1080x720 with 1 Axes>"
            ]
          },
          "metadata": {
            "tags": [],
            "needs_background": "light"
          }
        }
      ]
    },
    {
      "cell_type": "markdown",
      "metadata": {
        "id": "3CvVBTRtkRqO"
      },
      "source": [
        "# Visualize Performance Metrics"
      ]
    },
    {
      "cell_type": "code",
      "metadata": {
        "id": "ZgPHcN_9fFht",
        "colab": {
          "base_uri": "https://localhost:8080/",
          "height": 662
        },
        "outputId": "3cdcca1a-cc8d-4400-b01d-b990482edbb7"
      },
      "source": [
        "y = pd.DataFrame()\n",
        "y['npmi']=[-0.017, 0.030, 0.085, 0.050, 0.055]\n",
        "y['wetc']=[0.120, 0.153, 0.168, 0.162, 0.167]\n",
        "y['irbo']=[0.983, 0.984, 0.983, 0.971, 0.982]\n",
        "y['epochs'] = [5, 15, 25, 30, 45]\n",
        "\n",
        "plt.rcParams[\"figure.figsize\"] = [15, 10]\n",
        "y.plot(\n",
        "    x = 'epochs',\n",
        "    kind = \"bar\",\n",
        "    cmap = \"tab20c\")\n",
        "plt.axhline(y=0, color='gray', linestyle='-')\n",
        "plt.xticks(rotation = 0, fontsize = 20)\n",
        "plt.yticks(rotation = 0, fontsize = 20)\n",
        "plt.xlabel(\"Epochs\", fontsize = 20)\n",
        "plt.title(\"Performance Metrics\", fontsize = 20)\n",
        "plt.legend(prop={'size': 20})"
      ],
      "execution_count": 19,
      "outputs": [
        {
          "output_type": "execute_result",
          "data": {
            "text/plain": [
              "<matplotlib.legend.Legend at 0x7ff72e200250>"
            ]
          },
          "metadata": {
            "tags": []
          },
          "execution_count": 19
        },
        {
          "output_type": "display_data",
          "data": {
            "image/png": "[encoded data removed]",
            "text/plain": [
              "<Figure size 1080x720 with 1 Axes>"
            ]
          },
          "metadata": {
            "tags": [],
            "needs_background": "light"
          }
        }
      ]
    }
  ]
}